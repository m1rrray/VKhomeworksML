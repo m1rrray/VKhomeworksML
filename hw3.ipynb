{
 "cells": [
  {
   "cell_type": "markdown",
   "metadata": {
    "id": "6_kXtPi_iccR"
   },
   "source": [
    "### Машинное обучение\n",
    "## Домашнее задание №3 - Градиентный бустинг"
   ]
  },
  {
   "cell_type": "markdown",
   "metadata": {
    "id": "QUrO_hHCiccT"
   },
   "source": [
    "**Общая информация**\n",
    "\n",
    "**Срок сдачи:** 14 мая 2024, 23:59   \n",
    "**Штраф за опоздание:** -2 балла за каждые сутки\n",
    "\n",
    "Используйте данный Ipython Notebook при оформлении домашнего задания."
   ]
  },
  {
   "cell_type": "markdown",
   "metadata": {
    "id": "NloXC6OriccT"
   },
   "source": [
    "##  Считаем производные для функций потерь (1 балл)"
   ]
  },
  {
   "cell_type": "markdown",
   "metadata": {
    "id": "DhvA3Kj-iccT"
   },
   "source": [
    "Мы будем реализовать градиентный бустинг для 3 функций потерь:\n",
    "\n",
    "1) MSE  $L(a(x_i), y_i) = (y_i - a(x_i)) ^ 2$\n",
    "\n",
    "2) Экспоненциальная  $L(a(x_i), y_i) = exp( -a(x_i) y_i), y_i \\in \\{-1, 1\\}$\n",
    "\n",
    "3) Логистическая  $L(a(x_i), y_i) = \\log (1 + exp( -a(x_i) y_i)), y_i \\in \\{-1, 1\\}$\n",
    "\n",
    "где $a(x_i)$ предсказание бустинга на итом объекте.\n",
    "\n",
    "Для каждой функции потерь напишите таргет, на который будет настраиваться каждое дерево в бустинге."
   ]
  },
  {
   "cell_type": "markdown",
   "metadata": {
    "id": "6G0NNxWNZwh8"
   },
   "source": [
    "MSE:\n",
    "\n",
    "    s_i = y_i - a_n_1(x_i)\n",
    "\n",
    "LOG:\n",
    "\n",
    "    s_i = y_i/(1+exp(y_i*a_n_1(x_i))\n",
    "\n",
    "EXP:\n",
    "\n",
    "    s_i = y_i * exp(-y_i*a_n_1(x_i))"
   ]
  },
  {
   "cell_type": "markdown",
   "metadata": {
    "id": "_FxDE9IViccU"
   },
   "source": [
    "##  Реализуем градиентный бустинг (3 балла)"
   ]
  },
  {
   "cell_type": "markdown",
   "metadata": {
    "id": "0Q3oliISiccU"
   },
   "source": [
    "Реализуйте класс градиентного бустинга для классификации. Ваша реализация бустинга должна работать по точности не более чем на 5 процентов хуже чем GradientBoostingClassifier из sklearn.\n"
   ]
  },
  {
   "cell_type": "markdown",
   "metadata": {
    "id": "g35kj-9-iccU"
   },
   "source": [
    "Детали реализации:\n",
    "\n",
    "-- должно поддерживаться 3 функции потерь\n",
    "\n",
    "-- сами базовые алгоритмы(деревья, линейные модели и тп) реализовать не надо, просто возьмите готовые из sklearn\n",
    "\n",
    "-- в качестве функции потерь для построения одного дерева используйте MSE\n",
    "\n",
    "-- шаг в бустинге можно не подбирать, можно брать константный\n",
    "\n",
    "-- можно брать разные модели в качестве инициализации бустинга\n",
    "\n",
    "-- должны поддерживаться следующие параметры:\n",
    "\n",
    "а) число итераций\n",
    "б) размер шага\n",
    "в) процент случайных фичей при построении одного дерева\n",
    "д) процент случайных объектов при построении одного дерева\n",
    "е) параметры базового алгоритма (передавайте через **kwargs)"
   ]
  },
  {
   "cell_type": "code",
   "execution_count": 127,
   "metadata": {
    "collapsed": true,
    "id": "tMTuPs1JiccU",
    "jupyter": {
     "outputs_hidden": true
    }
   },
   "outputs": [],
   "source": [
    "import numpy as np\n",
    "\n",
    "from sklearn.datasets import load_wine\n",
    "from sklearn.ensemble import GradientBoostingClassifier\n",
    "from sklearn.metrics import accuracy_score\n",
    "from sklearn.model_selection import train_test_split\n",
    "from sklearn.tree import DecisionTreeRegressor\n",
    "from sklearn.base import clone"
   ]
  },
  {
   "cell_type": "code",
   "execution_count": 128,
   "metadata": {
    "id": "yrQ1xvgmwLbp"
   },
   "outputs": [],
   "source": [
    "from sklearn.preprocessing import OneHotEncoder\n",
    "\n",
    "class MyGradientBoostingClassifier:\n",
    "    def __init__(self, loss=\"mse\", learning_rate=0.1, n_estimators=100, colsample=1.0, subsample=1.0, random_state=0, *args, **kwargs):\n",
    "        self.loss = loss\n",
    "        self.learning_rate = learning_rate\n",
    "        self.n_estimators = n_estimators\n",
    "        self.colsample = colsample\n",
    "        self.subsample = subsample\n",
    "        self.base_model_params = kwargs if kwargs else args\n",
    "        self.random_state = random_state\n",
    "        self.trees = []\n",
    "        self.encoder = OneHotEncoder()\n",
    "        self.fitted = False\n",
    "        self.init_model = None\n",
    "\n",
    "    def _softmax(self, z):\n",
    "        \"\"\"Функция для многоклассовой классификации\"\"\"\n",
    "        exp_z = np.exp(z - np.max(z, axis=1, keepdims=True))\n",
    "        return exp_z / np.sum(exp_z, axis=1, keepdims=True)\n",
    "\n",
    "    def fit(self, X, y, base_model=DecisionTreeRegressor, init_model=None):\n",
    "\n",
    "        if self.fitted:\n",
    "          # условие, чтобы при повторном фите, бустинг снова не учился\n",
    "          return 0\n",
    "        self.fitted = True\n",
    "\n",
    "        # кодирование меток классов для многоклассовой классификации\n",
    "        if self.loss in ['log_loss', 'exp_loss']:\n",
    "          y_encoded = self.encoder.fit_transform(y.reshape(-1, 1)).toarray()\n",
    "        else:\n",
    "          y_encoded = y[:, np.newaxis]\n",
    "\n",
    "        n_samples, n_features = X.shape\n",
    "        n_classes = y_encoded.shape[1]\n",
    "\n",
    "        if init_model is not None:\n",
    "          self.init_model = clone(init_model)\n",
    "          self.init_model.fit(X, y)\n",
    "          # делаем predict_proba, если их не возвращает сразу обычным предиктом\n",
    "          y_pred = self.init_model.predict_proba(X)[:, 1] if hasattr(self.init_model, \"predict_proba\") else self.init_model.predict(X)\n",
    "        else:\n",
    "          y_pred = np.zeros((n_samples, n_classes))\n",
    "\n",
    "        # меняем размерность\n",
    "        y_pred = y_pred.reshape(-1, 1) if y_pred.ndim == 1 else y_pred\n",
    "\n",
    "        for _ in range(self.n_estimators):\n",
    "            trees = []\n",
    "            for k in range(n_classes):\n",
    "              # вычисление остатков в зависимости от функции потерь\n",
    "              if self.loss == 'mse':\n",
    "                residuals = y_encoded[:, k] - y_pred[:, k]\n",
    "              elif self.loss == 'exp_loss':\n",
    "                p = self._softmax(y_pred)\n",
    "                residuals = y_encoded[:, k] - p[:, k]\n",
    "              elif self.loss == 'log_loss':\n",
    "                p = self._softmax(y_pred)\n",
    "                eps = 1e-10  # Значение epsilon для избежания деления на ноль\n",
    "                residuals = (y_encoded[:, k] - p[:, k]) / (p[:, k] * (1 - p[:, k]) + eps)\n",
    "\n",
    "              tree = base_model(**self.base_model_params, random_state=self.random_state)\n",
    "\n",
    "              # подвыборка объектов\n",
    "              if 0 < self.subsample < 1.0:\n",
    "                sample_idx = np.random.choice(n_samples, int(self.subsample * n_samples), replace=False)\n",
    "              else:\n",
    "                sample_idx = np.arange(n_samples)\n",
    "\n",
    "              # подвыборка признаков\n",
    "              if 0 < self.colsample < 1.0:\n",
    "                feature_idx = np.random.choice(n_features, int(self.colsample * n_features), replace=False)\n",
    "              else:\n",
    "                feature_idx = np.arange(n_features)\n",
    "\n",
    "              # обучаем на x и на остатках\n",
    "              tree.fit(X[sample_idx][:, feature_idx], residuals[sample_idx])\n",
    "              leaf_predictions = tree.predict(X[:, feature_idx])\n",
    "              y_pred[:, k] += self.learning_rate * leaf_predictions\n",
    "              trees.append((tree, feature_idx))\n",
    "\n",
    "            self.trees.append(trees)\n",
    "\n",
    "    def predict(self, X):\n",
    "        n_samples = X.shape[0]\n",
    "        n_classes = len(self.trees[0])\n",
    "\n",
    "        # если у нас есть init_model, то предсказаываем сначала на нем\n",
    "        if self.init_model:\n",
    "          y_pred = self.init_model.predict_proba(X)[:, 1] if hasattr(self.init_model, \"predict_proba\") else self.init_model.predict(X)\n",
    "        else:\n",
    "          y_pred = np.zeros((n_samples, n_classes))\n",
    "\n",
    "        # меняем размерность\n",
    "        y_pred = y_pred.reshape(-1, 1) if y_pred.ndim == 1 else y_pred\n",
    "\n",
    "        for t_idx, trees in enumerate(self.trees):\n",
    "            for k, (tree, feature_idx) in enumerate(trees):\n",
    "              y_pred[:, k] += self.learning_rate * tree.predict(X[:, feature_idx])\n",
    "\n",
    "        if self.loss in ['log_loss', 'exp_loss']:\n",
    "            probabilities = self._softmax(y_pred)\n",
    "            return np.argmax(probabilities, axis=1)\n",
    "        else:\n",
    "            return np.round(y_pred[:, 0]).astype(int)\n"
   ]
  },
  {
   "cell_type": "code",
   "execution_count": 129,
   "metadata": {
    "id": "RCVlM0pZiccV"
   },
   "outputs": [],
   "source": [
    "my_clf = MyGradientBoostingClassifier(max_depth=2, loss=\"log_loss\")\n",
    "clf = GradientBoostingClassifier()"
   ]
  },
  {
   "cell_type": "code",
   "execution_count": 130,
   "metadata": {
    "collapsed": true,
    "id": "fA6539_kiccV",
    "jupyter": {
     "outputs_hidden": true
    }
   },
   "outputs": [],
   "source": [
    "wine = load_wine()\n",
    "X_train, X_test, y_train, y_test = train_test_split(wine.data, wine.target, test_size=0.1, stratify=wine.target, random_state=0)"
   ]
  },
  {
   "cell_type": "code",
   "execution_count": 131,
   "metadata": {
    "colab": {
     "base_uri": "https://localhost:8080/"
    },
    "id": "nhVVNMn0iccV",
    "outputId": "4c5fe36e-ee7e-4b74-ab76-bc19db366a7f"
   },
   "outputs": [
    {
     "name": "stdout",
     "output_type": "stream",
     "text": [
      "1.0\n",
      "1.0\n"
     ]
    }
   ],
   "source": [
    "my_clf.fit(X_train, y_train)\n",
    "clf.fit(X_train, y_train)\n",
    "print(accuracy_score(y_pred=clf.predict(X_test), y_true=y_test))\n",
    "print(accuracy_score(y_pred=my_clf.predict(X_test), y_true=y_test))"
   ]
  },
  {
   "cell_type": "markdown",
   "metadata": {
    "id": "aUUILaaniccV"
   },
   "source": [
    "## Подбираем параметры (2 балла)\n",
    "\n",
    "Давайте попробуем применить Ваш бустинг для предсказаний цены домов в Калифорнии. Чтобы можно было попробовтаь разные функции потерь, переведем по порогу таргет в 2 класса: дорогие и дешевые дома."
   ]
  },
  {
   "cell_type": "markdown",
   "metadata": {
    "id": "rAyHWejriccW"
   },
   "source": [
    "В задании нужно\n",
    "\n",
    "1) Построить график точности в зависимости от числа итераций на валидации.\n",
    "\n",
    "2) Подобрать оптимальные параметры Вашего бустинга на валидации.\n"
   ]
  },
  {
   "cell_type": "code",
   "execution_count": 132,
   "metadata": {
    "id": "W1JnGUvticcW"
   },
   "outputs": [],
   "source": [
    "from sklearn.datasets import fetch_california_housing\n",
    "X, y = fetch_california_housing(return_X_y=True)"
   ]
  },
  {
   "cell_type": "code",
   "execution_count": 133,
   "metadata": {
    "colab": {
     "base_uri": "https://localhost:8080/"
    },
    "id": "nk2Pn-eNiccW",
    "outputId": "c6aad459-6732-41e0-d890-9d433bde6f3b"
   },
   "outputs": [
    {
     "name": "stdout",
     "output_type": "stream",
     "text": [
      "(20640, 8) (20640,)\n"
     ]
    }
   ],
   "source": [
    "# Превращаем регрессию в классификацию\n",
    "y = (y > 2.0).astype(int)\n",
    "print(X.shape, y.shape)"
   ]
  },
  {
   "cell_type": "code",
   "execution_count": 134,
   "metadata": {
    "collapsed": true,
    "id": "sNcfLOLciccX",
    "jupyter": {
     "outputs_hidden": true
    }
   },
   "outputs": [],
   "source": [
    "X_train, X_test, y_train, y_test = train_test_split(X, y, test_size=0.3, stratify=y, random_state=0)"
   ]
  },
  {
   "cell_type": "markdown",
   "metadata": {
    "id": "35MEF2_Zn7Hw"
   },
   "source": [
    "Не очень понятно задание, поэтому я реализиовал 2 возможнных подхода к графику точности"
   ]
  },
  {
   "cell_type": "code",
   "execution_count": 135,
   "metadata": {
    "collapsed": true,
    "id": "oUO5QeigiccX",
    "jupyter": {
     "outputs_hidden": true
    }
   },
   "outputs": [],
   "source": [
    "trees_acc = {}\n",
    "for i in range(1, 125, 10):\n",
    "  my_clf = MyGradientBoostingClassifier(loss=\"log_loss\", n_estimators=i, max_depth=2)\n",
    "  my_clf.fit(X_train, y_train)\n",
    "  y_pred = my_clf.predict(X_test)\n",
    "  trees_acc[i] = accuracy_score(y_test, y_pred)"
   ]
  },
  {
   "cell_type": "code",
   "execution_count": 136,
   "metadata": {
    "colab": {
     "base_uri": "https://localhost:8080/",
     "height": 718
    },
    "id": "L83fUGL_kibR",
    "outputId": "58937928-5d11-4e3e-bee3-47842ce35842"
   },
   "outputs": [
    {
     "data": {
      "image/png": "[encoded data removed]",
      "text/plain": [
       "<Figure size 1500x800 with 1 Axes>"
      ]
     },
     "metadata": {},
     "output_type": "display_data"
    }
   ],
   "source": [
    "import matplotlib.pyplot as plt\n",
    "\n",
    "plt.figure(figsize=(15, 8))\n",
    "plt.title(\"the dependence of accuracy on the number of trees\")\n",
    "plt.xlabel(\"n_estimators\")\n",
    "plt.ylabel(\"Accuracy\")\n",
    "plt.plot(trees_acc.keys(), trees_acc.values(), label='Test')\n",
    "plt.legend()\n",
    "plt.show()"
   ]
  },
  {
   "cell_type": "code",
   "execution_count": 137,
   "metadata": {
    "id": "ugsJoaByqtRw"
   },
   "outputs": [],
   "source": [
    "trees_acc = {}\n",
    "my_clf = MyGradientBoostingClassifier(loss=\"mse\", n_estimators=100, max_depth=3)\n",
    "my_clf.fit(X_train, y_train)"
   ]
  },
  {
   "cell_type": "code",
   "execution_count": 138,
   "metadata": {
    "id": "EF4EKORJNjhc"
   },
   "outputs": [],
   "source": [
    "cumulative_pred = np.zeros(len(y_test))\n",
    "accuracy_scores = {}\n",
    "for i, trees in enumerate(my_clf.trees):\n",
    "    step_pred = np.zeros(len(y_test))\n",
    "    for tree, idx_features in trees:\n",
    "        step_pred += my_clf.learning_rate * tree.predict(X_test[:, idx_features])\n",
    "    cumulative_pred += step_pred\n",
    "    # Если функция потерь предполагает использование softmax (для классификации)\n",
    "    if my_clf.loss in ['log_loss', 'exp_loss']:\n",
    "        final_pred = np.argmax(my_clf._softmax(cumulative_pred), axis=1)\n",
    "    else:\n",
    "        final_pred = np.round(cumulative_pred).astype(int)\n",
    "    accuracy_scores[i+1] = accuracy_score(y_test, final_pred)"
   ]
  },
  {
   "cell_type": "code",
   "execution_count": 139,
   "metadata": {
    "colab": {
     "base_uri": "https://localhost:8080/",
     "height": 718
    },
    "id": "VP3MO9bG2LQZ",
    "outputId": "b63c3f73-3955-4d29-8434-f80b400f438f"
   },
   "outputs": [
    {
     "data": {
      "image/png": "[encoded data removed]",
      "text/plain": [
       "<Figure size 1500x800 with 1 Axes>"
      ]
     },
     "metadata": {},
     "output_type": "display_data"
    }
   ],
   "source": [
    "plt.figure(figsize=(15, 8))\n",
    "plt.title(\"the dependence of accuracy on the number of iterations\")\n",
    "plt.xlabel(\"Iteration\")\n",
    "plt.ylabel(\"Accuracy\")\n",
    "plt.plot(accuracy_scores.keys(), accuracy_scores.values(), label='Test')\n",
    "plt.legend()\n",
    "plt.show()"
   ]
  },
  {
   "cell_type": "code",
   "execution_count": 140,
   "metadata": {
    "id": "Lk7-fnwmJ3IM"
   },
   "outputs": [],
   "source": [
    "# !pip install optuna"
   ]
  },
  {
   "cell_type": "markdown",
   "metadata": {
    "id": "GIcCEz_ZI9uw"
   },
   "source": [
    "GridSearch с нашей имплементацией бустинга не работает, потому что он не наследуется от sklearn'овского класса с определенными функциями. Будем применять optuna, это фреймворк, который с помощью математики эффективно подбирает гиперпараметры. О нем мне рассказали на семинаре на майноре ИАД в университете"
   ]
  },
  {
   "cell_type": "code",
   "execution_count": 141,
   "metadata": {
    "colab": {
     "base_uri": "https://localhost:8080/"
    },
    "id": "Y392JV6pHvRr",
    "outputId": "6c2d20ef-d75b-4944-e9bb-94d694dfd7c6"
   },
   "outputs": [
    {
     "name": "stderr",
     "output_type": "stream",
     "text": [
      "[I 2024-05-12 16:59:31,828] A new study created in memory with name: no-name-e3137e9a-5f69-4484-9832-d6d984becc80\n",
      "[I 2024-05-12 16:59:40,453] Trial 0 finished with value: 0.8491602067183462 and parameters: {'loss': 'exp_loss', 'learning_rate': 0.028908808034220138, 'n_estimators': 89, 'colsample': 0.943722681800452, 'subsample': 0.7374497681386828, 'max_depth': 5}. Best is trial 0 with value: 0.8491602067183462.\n",
      "[I 2024-05-12 16:59:41,757] Trial 1 finished with value: 0.8896963824289406 and parameters: {'loss': 'mse', 'learning_rate': 0.07696389687024911, 'n_estimators': 38, 'colsample': 0.5949792026187972, 'subsample': 0.6379746765050651, 'max_depth': 9}. Best is trial 1 with value: 0.8896963824289406.\n",
      "[I 2024-05-12 16:59:48,915] Trial 2 finished with value: 0.8905038759689923 and parameters: {'loss': 'log_loss', 'learning_rate': 0.0862068830819447, 'n_estimators': 53, 'colsample': 0.744469845651284, 'subsample': 0.9827047828878371, 'max_depth': 9}. Best is trial 2 with value: 0.8905038759689923.\n",
      "[I 2024-05-12 16:59:54,561] Trial 3 finished with value: 0.8892118863049095 and parameters: {'loss': 'mse', 'learning_rate': 0.1452054941171571, 'n_estimators': 148, 'colsample': 0.5945885185770022, 'subsample': 0.6055698690051139, 'max_depth': 9}. Best is trial 2 with value: 0.8905038759689923.\n",
      "[I 2024-05-12 16:59:55,478] Trial 4 finished with value: 0.873062015503876 and parameters: {'loss': 'exp_loss', 'learning_rate': 0.45799461647364753, 'n_estimators': 14, 'colsample': 0.5675709312205437, 'subsample': 0.7977284075874873, 'max_depth': 6}. Best is trial 2 with value: 0.8905038759689923.\n",
      "[I 2024-05-12 17:00:06,690] Trial 5 finished with value: 0.8911498708010336 and parameters: {'loss': 'exp_loss', 'learning_rate': 0.11683118729220346, 'n_estimators': 109, 'colsample': 0.6523048566144806, 'subsample': 0.8312420234610918, 'max_depth': 7}. Best is trial 5 with value: 0.8911498708010336.\n",
      "[I 2024-05-12 17:00:07,415] Trial 6 finished with value: 0.8007105943152455 and parameters: {'loss': 'exp_loss', 'learning_rate': 0.48077232228424455, 'n_estimators': 22, 'colsample': 0.8785382713898909, 'subsample': 0.957284548859199, 'max_depth': 1}. Best is trial 5 with value: 0.8911498708010336.\n",
      "[I 2024-05-12 17:00:21,403] Trial 7 finished with value: 0.8825904392764858 and parameters: {'loss': 'log_loss', 'learning_rate': 0.49111106823391715, 'n_estimators': 123, 'colsample': 0.9670688879661591, 'subsample': 0.9403478790075948, 'max_depth': 5}. Best is trial 5 with value: 0.8911498708010336.\n",
      "[I 2024-05-12 17:00:25,410] Trial 8 finished with value: 0.8861434108527132 and parameters: {'loss': 'log_loss', 'learning_rate': 0.10477630142386427, 'n_estimators': 26, 'colsample': 0.9825463442841886, 'subsample': 0.6467211681155931, 'max_depth': 10}. Best is trial 5 with value: 0.8911498708010336.\n",
      "[I 2024-05-12 17:00:27,159] Trial 9 finished with value: 0.8808139534883721 and parameters: {'loss': 'mse', 'learning_rate': 0.3120029155280321, 'n_estimators': 17, 'colsample': 0.906353731639993, 'subsample': 0.9651248886247492, 'max_depth': 8}. Best is trial 5 with value: 0.8911498708010336.\n",
      "[I 2024-05-12 17:00:31,925] Trial 10 finished with value: 0.8603036175710594 and parameters: {'loss': 'exp_loss', 'learning_rate': 0.23441269107708496, 'n_estimators': 92, 'colsample': 0.7534809793714506, 'subsample': 0.8220210854681609, 'max_depth': 2}. Best is trial 5 with value: 0.8911498708010336.\n",
      "[I 2024-05-12 17:00:37,377] Trial 11 finished with value: 0.8854974160206718 and parameters: {'loss': 'log_loss', 'learning_rate': 0.19191428212002076, 'n_estimators': 57, 'colsample': 0.7136898016369533, 'subsample': 0.8645015033822854, 'max_depth': 7}. Best is trial 5 with value: 0.8911498708010336.\n",
      "[I 2024-05-12 17:00:44,669] Trial 12 finished with value: 0.8866279069767442 and parameters: {'loss': 'log_loss', 'learning_rate': 0.3280955315011521, 'n_estimators': 66, 'colsample': 0.715762662888149, 'subsample': 0.8901474032561077, 'max_depth': 7}. Best is trial 5 with value: 0.8911498708010336.\n",
      "[I 2024-05-12 17:00:51,862] Trial 13 finished with value: 0.8636950904392765 and parameters: {'loss': 'exp_loss', 'learning_rate': 0.15258720264629239, 'n_estimators': 110, 'colsample': 0.8042651549348963, 'subsample': 0.9961502026239005, 'max_depth': 3}. Best is trial 5 with value: 0.8911498708010336.\n",
      "[I 2024-05-12 17:00:56,614] Trial 14 finished with value: 0.8800064599483204 and parameters: {'loss': 'log_loss', 'learning_rate': 0.003146282029127409, 'n_estimators': 55, 'colsample': 0.6689091436515416, 'subsample': 0.5078628225375466, 'max_depth': 10}. Best is trial 5 with value: 0.8911498708010336.\n"
     ]
    },
    {
     "name": "stdout",
     "output_type": "stream",
     "text": [
      "Best parameters found:  {'loss': 'exp_loss', 'learning_rate': 0.11683118729220346, 'n_estimators': 109, 'colsample': 0.6523048566144806, 'subsample': 0.8312420234610918, 'max_depth': 7}\n"
     ]
    }
   ],
   "source": [
    "import optuna\n",
    "\n",
    "def objective(trial):\n",
    "    # Определение гиперпараметров, подлежащих оптимизации\n",
    "    loss = trial.suggest_categorical('loss', ['mse', 'log_loss', 'exp_loss'])\n",
    "    learning_rate = trial.suggest_float('learning_rate', 0.001, 0.5)\n",
    "    n_estimators = trial.suggest_int('n_estimators', 10, 150)\n",
    "    colsample = trial.suggest_float('colsample', 0.5, 1.0)\n",
    "    subsample = trial.suggest_float('subsample', 0.5, 1.0)\n",
    "    max_depth = trial.suggest_int(\"max_depth\", 1, 10)\n",
    "\n",
    "    # Создание модели с выбранными гиперпараметрами\n",
    "    model = MyGradientBoostingClassifier(\n",
    "        loss=loss,\n",
    "        learning_rate=learning_rate,\n",
    "        n_estimators=n_estimators,\n",
    "        colsample=colsample,\n",
    "        subsample=subsample,\n",
    "        max_depth=max_depth\n",
    "    )\n",
    "\n",
    "    model.fit(X_train, y_train)\n",
    "\n",
    "    y_pred = model.predict(X_test)\n",
    "\n",
    "    accuracy = accuracy_score(y_test, y_pred)\n",
    "\n",
    "    return accuracy\n",
    "\n",
    "# создание объекта study и запуск оптимизации\n",
    "study = optuna.create_study(direction='maximize')\n",
    "study.optimize(objective, n_trials=15)\n",
    "\n",
    "# Получение лучших параметров\n",
    "best_params = study.best_params\n",
    "print(\"Best parameters found: \", best_params)\n"
   ]
  },
  {
   "cell_type": "markdown",
   "metadata": {
    "id": "5Kidvy6-cqBF"
   },
   "source": [
    "Лучший accuracy получился 0.8964793281653747 с параметрами выше"
   ]
  },
  {
   "cell_type": "markdown",
   "metadata": {
    "id": "F_ypuj-EiccX"
   },
   "source": [
    "## BooBag BagBoo (1 балл)\n",
    "\n"
   ]
  },
  {
   "cell_type": "markdown",
   "metadata": {
    "id": "_SMRnoxKiccX"
   },
   "source": [
    "Попробуем объединить бустинг и бэгинг. Давайте\n",
    "\n",
    "1) в качестве базовой модели брать не дерево решений, а случайный лес (из sklearn)\n",
    "\n",
    "2) обучать N бустингов на бустрапированной выборке, а затем предикт усреднять"
   ]
  },
  {
   "cell_type": "markdown",
   "metadata": {
    "id": "1FXo0Gi7iccX"
   },
   "source": [
    "Попробуйте обе этих стратегии на данных из прошлого задания. Получилось ли улучшить качество? Почему?"
   ]
  },
  {
   "cell_type": "code",
   "execution_count": 142,
   "metadata": {
    "colab": {
     "base_uri": "https://localhost:8080/"
    },
    "collapsed": true,
    "id": "MPIKB5jLiccX",
    "jupyter": {
     "outputs_hidden": true
    },
    "outputId": "0a8aab0d-a110-44ee-ddb8-16e3eeedec5e"
   },
   "outputs": [
    {
     "name": "stdout",
     "output_type": "stream",
     "text": [
      "0.8914728682170543\n"
     ]
    }
   ],
   "source": [
    "from sklearn.ensemble import RandomForestRegressor\n",
    "# 3 минуты\n",
    "my_clf = MyGradientBoostingClassifier(loss='exp_loss', learning_rate=0.41054047686577266, n_estimators=19, colsample=0.694336609786294, subsample=0.9881482307592161, max_depth=10)\n",
    "my_clf.fit(X_train, y_train, base_model=RandomForestRegressor)\n",
    "print(accuracy_score(y_test, my_clf.predict(X_test)))"
   ]
  },
  {
   "cell_type": "code",
   "execution_count": 143,
   "metadata": {
    "colab": {
     "base_uri": "https://localhost:8080/"
    },
    "id": "X-riHe0ZYX06",
    "outputId": "258c183c-5114-4a08-cd07-290452b1a484"
   },
   "outputs": [
    {
     "data": {
      "text/plain": [
       "0.8864664082687338"
      ]
     },
     "execution_count": 143,
     "metadata": {},
     "output_type": "execute_result"
    }
   ],
   "source": [
    "from sklearn.utils import resample\n",
    "\n",
    "def train_boosting_baggings(X_train, y_train, X_test, y_test, n_estimators=10, n_boostings=5):\n",
    "    predictions = []\n",
    "\n",
    "    for i in range(n_boostings):\n",
    "        # бутстрап\n",
    "        X_boot, y_boot = resample(X_train, y_train)\n",
    "\n",
    "        boosting = MyGradientBoostingClassifier(\n",
    "            loss='exp_loss',\n",
    "            learning_rate=0.41054047686577266,\n",
    "            n_estimators=19,\n",
    "            colsample=0.694336609786294,\n",
    "            subsample=0.9881482307592161,\n",
    "            max_depth=10\n",
    "        )\n",
    "        boosting.fit(X_boot, y_boot)\n",
    "\n",
    "        # текущий бустинг\n",
    "        pred = boosting.predict(X_test)\n",
    "        predictions.append(pred)\n",
    "\n",
    "    average_predictions = np.mean(predictions, axis=0)\n",
    "    average_predictions = np.round(average_predictions).astype(int)\n",
    "\n",
    "\n",
    "    accuracy = accuracy_score(y_test, average_predictions)\n",
    "    return accuracy\n",
    "\n",
    "train_boosting_baggings(X_train, y_train, X_test, y_test, n_boostings=10)"
   ]
  },
  {
   "cell_type": "markdown",
   "metadata": {
    "id": "-UExEmZVboR6"
   },
   "source": [
    "Качество не улучшилось. Случайный лес дал почти такой же результат, как и обычный бустинг, возможно, если понастраивать, то качество чуть-чуть улучшится, но все равно вряд ли будет сильный эффект. Также возможно переобучение, модель становится слишком сложной. На бэггинге качество упало,"
   ]
  },
  {
   "cell_type": "markdown",
   "metadata": {
    "collapsed": true,
    "id": "xSdIvb9MiccX",
    "jupyter": {
     "outputs_hidden": true
    }
   },
   "source": [
    "## Умная инициализация (1 балл)\n",
    "\n",
    "Попробуйте брать в качестве инициализации бустинга не константу, а какой-то алгоритм и уже от его предикта стартовать итерации бустинга. Попробуйте разные модели из sklearn: линейные модели, рандом форест, svm..\n",
    "\n",
    "Получилось ли улучшить качество? Почему?\n",
    "\n"
   ]
  },
  {
   "cell_type": "code",
   "execution_count": 144,
   "metadata": {
    "collapsed": true,
    "id": "R2dC7f3eiccX",
    "jupyter": {
     "outputs_hidden": true
    }
   },
   "outputs": [],
   "source": [
    "from sklearn.linear_model import LogisticRegression, Lasso, Ridge\n",
    "from sklearn.svm import SVC\n",
    "from sklearn.ensemble import RandomForestClassifier, RandomForestRegressor\n",
    "init_models = [LogisticRegression(max_iter=1000), Lasso(), Ridge(), SVC(probability=True),RandomForestClassifier(), RandomForestRegressor()]"
   ]
  },
  {
   "cell_type": "code",
   "execution_count": 145,
   "metadata": {
    "colab": {
     "base_uri": "https://localhost:8080/"
    },
    "id": "ORCDlfa2igBn",
    "outputId": "277c8082-311c-46c7-e2f8-33f85d443d54"
   },
   "outputs": [
    {
     "name": "stdout",
     "output_type": "stream",
     "text": [
      "LogisticRegression 0.8806524547803618\n",
      "Lasso 0.8867894056847545\n",
      "Ridge 0.8887273901808785\n",
      "SVC 0.8843669250645995\n",
      "RandomForestClassifier 0.8882428940568475\n",
      "RandomForestRegressor 0.8796834625322998\n"
     ]
    }
   ],
   "source": [
    "for model in init_models:\n",
    "    boosting_model = MyGradientBoostingClassifier(learning_rate=0.3, max_depth=3)\n",
    "    boosting_model.fit(X_train, y_train, init_model=model)\n",
    "    y_pred = boosting_model.predict(X_test)\n",
    "    accuracy = accuracy_score(y_test, y_pred)\n",
    "    print(model.__class__.__name__, accuracy)"
   ]
  },
  {
   "cell_type": "code",
   "execution_count": 146,
   "metadata": {
    "colab": {
     "base_uri": "https://localhost:8080/"
    },
    "id": "7CHgSsbOsRKQ",
    "outputId": "0b0ec4d0-46fc-4df9-db2d-156ca11288dd"
   },
   "outputs": [
    {
     "data": {
      "text/plain": [
       "0.8856589147286822"
      ]
     },
     "execution_count": 146,
     "metadata": {},
     "output_type": "execute_result"
    }
   ],
   "source": [
    "boosting_model = MyGradientBoostingClassifier(learning_rate=0.3, max_depth=3)\n",
    "boosting_model.fit(X_train, y_train)\n",
    "y_pred = boosting_model.predict(X_test)\n",
    "accuracy_score(y_test, y_pred)"
   ]
  },
  {
   "cell_type": "markdown",
   "metadata": {
    "id": "dntkjvE5r_Tf"
   },
   "source": [
    "Качество существенно не улучшилось, некоторые модели выдали чуть лучшее значение метрики, чем такой же бустинг без init_model. Если подобрать параметры, может быть получится что-то более хорошее. Это должно работать лучше, в особенности быстрее, так как бустинг стартует с уже каких-то предсказаний. Если данные линейно зависимы, то хорошо будут работать линейные модели. Случайные лес лучше работает, если у нас нелинейные зависимости. В нашем случае лучше сработал Ridge, то есть данные достаточно линейные."
   ]
  },
  {
   "cell_type": "markdown",
   "metadata": {
    "id": "oFMeHtMSiccX"
   },
   "source": [
    "## Фидбек (бесценно)"
   ]
  },
  {
   "cell_type": "markdown",
   "metadata": {
    "id": "u1sQAX7FiccY"
   },
   "source": [
    "* Какие аспекты обучения  ансамблей Вам показались непонятными? Какое место стоит дополнительно объяснить?"
   ]
  },
  {
   "cell_type": "markdown",
   "metadata": {
    "id": "GYgHqsKZiccY"
   },
   "source": [
    "### Ваш ответ здесь"
   ]
  },
  {
   "cell_type": "markdown",
   "metadata": {
    "id": "lJLsEdNuiccY"
   },
   "source": [
    "Как-то мало сказали про многоклассовую классификацию в этой домашке, тема довольно сложная для внедрения в бустинг, хотелось бы пояснений дополнительных."
   ]
  }
 ],
 "metadata": {
  "anaconda-cloud": {},
  "colab": {
   "provenance": []
  },
  "kernelspec": {
   "display_name": "Python 3 (ipykernel)",
   "language": "python",
   "name": "python3"
  },
  "language_info": {
   "codemirror_mode": {
    "name": "ipython",
    "version": 3
   },
   "file_extension": ".py",
   "mimetype": "text/x-python",
   "name": "python",
   "nbconvert_exporter": "python",
   "pygments_lexer": "ipython3",
   "version": "3.11.7"
  }
 },
 "nbformat": 4,
 "nbformat_minor": 4
}
